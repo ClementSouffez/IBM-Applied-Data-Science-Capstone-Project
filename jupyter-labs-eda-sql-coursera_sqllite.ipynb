Introduction
Using this Python notebook you will:

Understand the Spacex DataSet
Load the dataset into the corresponding table in a Db2 database
Execute SQL queries to answer assignment questions


!pip install sqlalchemy==1.3.9

Connect to the database
Let us first load the SQL extension and establish a connection with the database

%load_ext sql

import csv, sqlite3

con = sqlite3.connect("my_data1.db")
cur = con.cursor()

!pip install -q pandas==1.1.5

%sql sqlite:///my_data1.db

import pandas as pd
df = pd.read_csv("https://cf-courses-data.s3.us.cloud-object-storage.appdomain.cloud/IBM-DS0321EN-SkillsNetwork/labs/module_2/data/Spacex.csv")
df.to_sql("SPACEXTBL", con, if_exists='replace', index=False,method="multi")


Tasks
Now write and execute SQL queries to solve the assignment tasks.

Note: If the column names are in mixed case enclose it in double quotes For Example "Landing_Outcome"

Task 1
Display the names of the unique launch sites in the space mission
%sql SELECT DISTINCT(Launch_Site)FROM SPACEXTBL;

Task 2
Display 5 records where launch sites begin with the string 'CCA'

%sql SELECT* FROM SPACEXTBL WHERE Launch_Site LIKE 'CCA%' LIMIT 5;

Task 3
Display the total payload mass carried by boosters launched by NASA (CRS)¶

%sql SELECT SUM(PAYLOAD_MASS__KG_) FROM SPACEXTBL 

Task 4
Display average payload mass carried by booster version F9 v1.1

%sql SELECT ROUND(AVG(PAYLOAD_MASS__KG_)) FROM SPACEXTBL

Task 5
List the date when the first succesful landing outcome in ground pad was acheived.

%sql SELECT min(DATE) FROM SPACEXTBL

Task 6
List the names of the boosters which have success in drone ship and have payload mass greater than 4000 but less than 6000¶

%sql SELECT Booster_Version FROM SPACEXTBL WHERE `landing _outcome` = 'Success (drone ship)'AND PAYLOAD_MASS__KG_ > 4000 AND PAYLOAD_MASS__KG_ < 6000

Task 7
List the total number of successful and failure mission outcomes

%sql SELECT COUNT(Mission_Outcome) FROM SPACEXTBL WHERE Mission_Outcome LIKE '%success%' OR Mission_Outcome LIKE '%failure%' 

Task 8
List the names of the booster_versions which have carried the maximum payload mass. Use a subquery

%sql SELECT Booster_Version FROM SPACEXTBL WHERE PAYLOAD_MASS__KG_=(SELECT MAX(PAYLOAD_MASS__KG_)FROM SPACEXTBL );

Task 9
List the records which will display the month names, failure landing_outcomes in drone ship ,booster versions, launch_site for the months in year 2015.
Note: SQLLite does not support monthnames. So you need to use substr(Date, 4, 2) as month to get the months and substr(Date,7,4)='2015' for year.

%sql SELECT substr(Date, 4, 2) as month,substr(Date,7,4) as year,`landing _outcome`,Booster_Version,Launch_Site FROM SPACEXTBL WHERE substr(Date,7,4)='2015' AND `landing _outcome` LIKE 'Failure%'; 

Task 10
Rank the count of successful landing_outcomes between the date 04-06-2010 and 20-03-2017 in descending order.
%sql SELECT `landing _outcome`, COUNT(`landing _outcome`) as nr_of_Successful_landings FROM SPACEXTBL WHERE (`landing _outcome` LIKE 'Success%') AND `DATE` BETWEEN '04-06-2010' AND '20-03-2017' GROUP BY `landing _outcome` ORDER BY 'nr_of_Successful_landings' DESC ;
